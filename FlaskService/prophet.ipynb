{
 "cells": [
  {
   "cell_type": "code",
   "execution_count": 2,
   "metadata": {
    "collapsed": true
   },
   "outputs": [],
   "source": [
    "import pandas as pd\n",
    "from prophet import Prophet"
   ]
  },
  {
   "cell_type": "code",
   "execution_count": 52,
   "outputs": [],
   "source": [
    "## Seller 의 월별 매출을 Parameter 로 받은 후 DataFrame 로 변경\n",
    "# {ds = datetime, y = value}\n",
    "df = pd.DataFrame({\"ds\" : ['2022-6', '2022-7', '2022-8', '2022-9', '2022-10'], \"y\" : [9.590761, 8.519590, 8.183677, 8.072467, 7.893572]})"
   ],
   "metadata": {
    "collapsed": false,
    "pycharm": {
     "name": "#%%\n"
    }
   }
  },
  {
   "cell_type": "code",
   "execution_count": 53,
   "outputs": [
    {
     "data": {
      "text/plain": "        ds         y\n0   2022-6  9.590761\n1   2022-7  8.519590\n2   2022-8  8.183677\n3   2022-9  8.072467\n4  2022-10  7.893572",
      "text/html": "<div>\n<style scoped>\n    .dataframe tbody tr th:only-of-type {\n        vertical-align: middle;\n    }\n\n    .dataframe tbody tr th {\n        vertical-align: top;\n    }\n\n    .dataframe thead th {\n        text-align: right;\n    }\n</style>\n<table border=\"1\" class=\"dataframe\">\n  <thead>\n    <tr style=\"text-align: right;\">\n      <th></th>\n      <th>ds</th>\n      <th>y</th>\n    </tr>\n  </thead>\n  <tbody>\n    <tr>\n      <th>0</th>\n      <td>2022-6</td>\n      <td>9.590761</td>\n    </tr>\n    <tr>\n      <th>1</th>\n      <td>2022-7</td>\n      <td>8.519590</td>\n    </tr>\n    <tr>\n      <th>2</th>\n      <td>2022-8</td>\n      <td>8.183677</td>\n    </tr>\n    <tr>\n      <th>3</th>\n      <td>2022-9</td>\n      <td>8.072467</td>\n    </tr>\n    <tr>\n      <th>4</th>\n      <td>2022-10</td>\n      <td>7.893572</td>\n    </tr>\n  </tbody>\n</table>\n</div>"
     },
     "execution_count": 53,
     "metadata": {},
     "output_type": "execute_result"
    }
   ],
   "source": [
    "df"
   ],
   "metadata": {
    "collapsed": false,
    "pycharm": {
     "name": "#%%\n"
    }
   }
  },
  {
   "cell_type": "code",
   "execution_count": 5,
   "outputs": [
    {
     "name": "stderr",
     "output_type": "stream",
     "text": [
      "INFO:prophet:Disabling yearly seasonality. Run prophet with yearly_seasonality=True to override this.\n",
      "INFO:prophet:Disabling weekly seasonality. Run prophet with weekly_seasonality=True to override this.\n",
      "INFO:prophet:Disabling daily seasonality. Run prophet with daily_seasonality=True to override this.\n",
      "INFO:prophet:n_changepoints greater than number of observations. Using 3.\n"
     ]
    },
    {
     "name": "stdout",
     "output_type": "stream",
     "text": [
      "\n",
      "Initial log joint probability = -5.91337\n",
      "Iteration  1. Log joint probability =    4.69978. Improved by 10.6132.\n",
      "Iteration  2. Log joint probability =    11.5325. Improved by 6.83271.\n",
      "Iteration  3. Log joint probability =    14.2436. Improved by 2.71109.\n",
      "Iteration  4. Log joint probability =    15.3282. Improved by 1.08463.\n",
      "Iteration  5. Log joint probability =    15.3671. Improved by 0.038947.\n",
      "Iteration  6. Log joint probability =    15.3699. Improved by 0.00277611.\n",
      "Iteration  7. Log joint probability =    15.3713. Improved by 0.00141516.\n",
      "Iteration  8. Log joint probability =    15.3729. Improved by 0.00152759.\n",
      "Iteration  9. Log joint probability =    15.3729. Improved by 2.66129e-05.\n",
      "Iteration 10. Log joint probability =    15.3729. Improved by 5.95977e-06.\n",
      "Iteration 11. Log joint probability =    15.3729. Improved by 5.82627e-06.\n",
      "Iteration 12. Log joint probability =    15.3729. Improved by 5.29422e-06.\n",
      "Iteration 13. Log joint probability =    15.3729. Improved by 6.49064e-06.\n",
      "Iteration 14. Log joint probability =    15.3729. Improved by 4.62878e-06.\n",
      "Iteration 15. Log joint probability =    15.3729. Improved by 7.1549e-06.\n",
      "Iteration 16. Log joint probability =    15.3729. Improved by 3.96345e-06.\n",
      "Iteration 17. Log joint probability =    15.3729. Improved by 7.81906e-06.\n",
      "Iteration 18. Log joint probability =    15.3729. Improved by 3.29822e-06.\n",
      "Iteration 19. Log joint probability =     15.373. Improved by 8.48313e-06.\n",
      "Iteration 20. Log joint probability =     15.373. Improved by 2.6331e-06.\n",
      "Iteration 21. Log joint probability =     15.373. Improved by 9.14709e-06.\n",
      "Iteration 22. Log joint probability =     15.373. Improved by 1.96809e-06.\n",
      "Iteration 23. Log joint probability =     15.373. Improved by 9.81095e-06.\n",
      "Iteration 24. Log joint probability =     15.373. Improved by 1.30319e-06.\n",
      "Iteration 25. Log joint probability =     15.373. Improved by 1.04747e-05.\n",
      "Iteration 26. Log joint probability =     15.373. Improved by 6.38389e-07.\n",
      "Iteration 27. Log joint probability =     15.373. Improved by 1.11384e-05.\n",
      "Iteration 28. Log joint probability =     15.373. Improved by 5.13982e-06.\n",
      "Iteration 29. Log joint probability =     15.373. Improved by 7.48112e-07.\n",
      "Iteration 30. Log joint probability =     15.373. Improved by 4.8076e-06.\n",
      "Iteration 31. Log joint probability =     15.373. Improved by 1.08005e-06.\n",
      "Iteration 32. Log joint probability =     15.373. Improved by 4.47541e-06.\n",
      "Iteration 33. Log joint probability =     15.373. Improved by 1.41196e-06.\n",
      "Iteration 34. Log joint probability =     15.373. Improved by 4.14324e-06.\n",
      "Iteration 35. Log joint probability =     15.373. Improved by 1.74385e-06.\n",
      "Iteration 36. Log joint probability =     15.373. Improved by 3.81111e-06.\n",
      "Iteration 37. Log joint probability =     15.373. Improved by 2.07571e-06.\n",
      "Iteration 38. Log joint probability =     15.373. Improved by 3.47899e-06.\n",
      "Iteration 39. Log joint probability =     15.373. Improved by 2.40754e-06.\n",
      "Iteration 40. Log joint probability =     15.373. Improved by 3.14691e-06.\n",
      "Iteration 41. Log joint probability =     15.373. Improved by 2.73935e-06.\n",
      "Iteration 42. Log joint probability =     15.373. Improved by 2.81485e-06.\n",
      "Iteration 43. Log joint probability =     15.373. Improved by 3.07113e-06.\n",
      "Iteration 44. Log joint probability =     15.373. Improved by 2.48282e-06.\n",
      "Iteration 45. Log joint probability =    15.3731. Improved by 3.40289e-06.\n",
      "Iteration 46. Log joint probability =    15.3731. Improved by 2.15081e-06.\n",
      "Iteration 47. Log joint probability =    15.3731. Improved by 3.73462e-06.\n",
      "Iteration 48. Log joint probability =    15.3731. Improved by 1.81883e-06.\n",
      "Iteration 49. Log joint probability =    15.3731. Improved by 4.06633e-06.\n",
      "Iteration 50. Log joint probability =    15.3731. Improved by 1.48688e-06.\n",
      "Iteration 51. Log joint probability =    15.3731. Improved by 4.39801e-06.\n",
      "Iteration 52. Log joint probability =    15.3731. Improved by 1.15495e-06.\n",
      "Iteration 53. Log joint probability =    15.3731. Improved by 4.72966e-06.\n",
      "Iteration 54. Log joint probability =    15.3731. Improved by 8.23051e-07.\n",
      "Iteration 55. Log joint probability =    15.3731. Improved by 5.06129e-06.\n",
      "Iteration 56. Log joint probability =    15.3731. Improved by 4.91177e-07.\n",
      "Iteration 57. Log joint probability =    15.3731. Improved by 5.3929e-06.\n",
      "Iteration 58. Log joint probability =    15.3731. Improved by 1.59329e-07.\n",
      "Iteration 59. Log joint probability =    15.3731. Improved by 5.72448e-06.\n",
      "Iteration 60. Log joint probability =    15.3731. Improved by 2.41127e-06.\n",
      "Iteration 61. Log joint probability =    15.3731. Improved by 5.30525e-07.\n",
      "Iteration 62. Log joint probability =    15.3731. Improved by 2.24539e-06.\n",
      "Iteration 63. Log joint probability =    15.3731. Improved by 6.96337e-07.\n",
      "Iteration 64. Log joint probability =    15.3731. Improved by 2.07952e-06.\n",
      "Iteration 65. Log joint probability =    15.3731. Improved by 8.62144e-07.\n",
      "Iteration 66. Log joint probability =    15.3731. Improved by 1.91365e-06.\n",
      "Iteration 67. Log joint probability =    15.3731. Improved by 1.02794e-06.\n",
      "Iteration 68. Log joint probability =    15.3731. Improved by 1.74779e-06.\n",
      "Iteration 69. Log joint probability =    15.3731. Improved by 1.19374e-06.\n",
      "Iteration 70. Log joint probability =    15.3731. Improved by 1.58194e-06.\n",
      "Iteration 71. Log joint probability =    15.3731. Improved by 1.35952e-06.\n",
      "Iteration 72. Log joint probability =    15.3731. Improved by 1.41609e-06.\n",
      "Iteration 73. Log joint probability =    15.3731. Improved by 1.5253e-06.\n",
      "Iteration 74. Log joint probability =    15.3731. Improved by 1.25025e-06.\n",
      "Iteration 75. Log joint probability =    15.3731. Improved by 1.69108e-06.\n",
      "Iteration 76. Log joint probability =    15.3731. Improved by 1.08442e-06.\n",
      "Iteration 77. Log joint probability =    15.3731. Improved by 1.85685e-06.\n",
      "Iteration 78. Log joint probability =    15.3731. Improved by 9.18589e-07.\n",
      "Iteration 79. Log joint probability =    15.3731. Improved by 2.02261e-06.\n",
      "Iteration 80. Log joint probability =    15.3731. Improved by 7.52769e-07.\n",
      "Iteration 81. Log joint pro"
     ]
    },
    {
     "data": {
      "text/plain": "<prophet.forecaster.Prophet at 0x13811f160>"
     },
     "execution_count": 5,
     "metadata": {},
     "output_type": "execute_result"
    },
    {
     "name": "stdout",
     "output_type": "stream",
     "text": [
      "bability =    15.3731. Improved by 2.18836e-06.\n",
      "Iteration 82. Log joint probability =    15.3731. Improved by 5.86955e-07.\n",
      "Iteration 83. Log joint probability =    15.3731. Improved by 2.35411e-06.\n",
      "Iteration 84. Log joint probability =    15.3731. Improved by 4.21148e-07.\n",
      "Iteration 85. Log joint probability =    15.3731. Improved by 2.51985e-06.\n",
      "Iteration 86. Log joint probability =    15.3731. Improved by 2.55347e-07.\n",
      "Iteration 87. Log joint probability =    15.3731. Improved by 2.68559e-06.\n",
      "Iteration 88. Log joint probability =    15.3731. Improved by 8.95527e-08.\n",
      "Iteration 89. Log joint probability =    15.3731. Improved by 2.85131e-06.\n",
      "Iteration 90. Log joint probability =    15.3731. Improved by 1.2158e-06.\n",
      "Iteration 91. Log joint probability =    15.3731. Improved by 2.54603e-07.\n",
      "Iteration 92. Log joint probability =    15.3731. Improved by 1.13292e-06.\n",
      "Iteration 93. Log joint probability =    15.3731. Improved by 3.37473e-07.\n",
      "Iteration 94. Log joint probability =    15.3731. Improved by 1.05003e-06.\n",
      "Iteration 95. Log joint probability =    15.3731. Improved by 4.20341e-07.\n",
      "Iteration 96. Log joint probability =    15.3731. Improved by 9.6715e-07.\n",
      "Iteration 97. Log joint probability =    15.3731. Improved by 5.03208e-07.\n",
      "Iteration 98. Log joint probability =    15.3731. Improved by 8.84269e-07.\n",
      "Iteration 99. Log joint probability =    15.3731. Improved by 5.86073e-07.\n",
      "Iteration 100. Log joint probability =    15.3731. Improved by 8.01389e-07.\n",
      "Iteration 101. Log joint probability =    15.3731. Improved by 6.68936e-07.\n",
      "Iteration 102. Log joint probability =    15.3731. Improved by 7.18511e-07.\n",
      "Iteration 103. Log joint probability =    15.3731. Improved by 7.51798e-07.\n",
      "Iteration 104. Log joint probability =    15.3731. Improved by 6.35635e-07.\n",
      "Iteration 105. Log joint probability =    15.3731. Improved by 8.34658e-07.\n",
      "Iteration 106. Log joint probability =    15.3731. Improved by 5.5276e-07.\n",
      "Iteration 107. Log joint probability =    15.3732. Improved by 9.17516e-07.\n",
      "Iteration 108. Log joint probability =    15.3732. Improved by 4.69887e-07.\n",
      "Iteration 109. Log joint probability =    15.3732. Improved by 1.00037e-06.\n",
      "Iteration 110. Log joint probability =    15.3732. Improved by 3.87015e-07.\n",
      "Iteration 111. Log joint probability =    15.3732. Improved by 1.08323e-06.\n",
      "Iteration 112. Log joint probability =    15.3732. Improved by 3.04145e-07.\n",
      "Iteration 113. Log joint probability =    15.3732. Improved by 1.16608e-06.\n",
      "Iteration 114. Log joint probability =    15.3732. Improved by 2.21277e-07.\n",
      "Iteration 115. Log joint probability =    15.3732. Improved by 1.24893e-06.\n",
      "Iteration 116. Log joint probability =    15.3732. Improved by 1.38411e-07.\n",
      "Iteration 117. Log joint probability =    15.3732. Improved by 1.33178e-06.\n",
      "Iteration 118. Log joint probability =    15.3732. Improved by 5.55457e-08.\n",
      "Iteration 119. Log joint probability =    15.3732. Improved by 1.41463e-06.\n",
      "Iteration 120. Log joint probability =    15.3732. Improved by 6.18741e-07.\n",
      "Iteration 121. Log joint probability =    15.3732. Improved by 1.16342e-07.\n",
      "Iteration 122. Log joint probability =    15.3732. Improved by 5.77311e-07.\n",
      "Iteration 123. Log joint probability =    15.3732. Improved by 1.57768e-07.\n",
      "Iteration 124. Log joint probability =    15.3732. Improved by 5.35882e-07.\n",
      "Iteration 125. Log joint probability =    15.3732. Improved by 1.99193e-07.\n",
      "Iteration 126. Log joint probability =    15.3732. Improved by 4.94453e-07.\n",
      "Iteration 127. Log joint probability =    15.3732. Improved by 2.40618e-07.\n",
      "Iteration 128. Log joint probability =    15.3732. Improved by 4.53024e-07.\n",
      "Iteration 129. Log joint probability =    15.3732. Improved by 2.82043e-07.\n",
      "Iteration 130. Log joint probability =    15.3732. Improved by 4.11596e-07.\n",
      "Iteration 131. Log joint probability =    15.3732. Improved by 3.23467e-07.\n",
      "Iteration 132. Log joint probability =    15.3732. Improved by 3.70168e-07.\n",
      "Iteration 133. Log joint probability =    15.3732. Improved by 3.6489e-07.\n",
      "Iteration 134. Log joint probability =    15.3732. Improved by 3.28741e-07.\n",
      "Iteration 135. Log joint probability =    15.3732. Improved by 4.06314e-07.\n",
      "Iteration 136. Log joint probability =    15.3732. Improved by 2.87314e-07.\n",
      "Iteration 137. Log joint probability =    15.3732. Improved by 4.47736e-07.\n",
      "Iteration 138. Log joint probability =    15.3732. Improved by 2.45888e-07.\n",
      "Iteration 139. Log joint probability =    15.3732. Improved by 4.89159e-07.\n",
      "Iteration 140. Log joint probability =    15.3732. Improved by 2.04461e-07.\n",
      "Iteration 141. Log joint probability =    15.3732. Improved by 5.30581e-07.\n",
      "Iteration 142. Log joint probability =    15.3732. Improved by 1.63036e-07.\n",
      "Iteration 143. Log joint probability =    15.3732. Improved by 5.72003e-07.\n",
      "Iteration 144. Log joint probability =    15.3732. Improved by 1.21611e-07.\n",
      "Iteration 145. Log joint probability =    15.3732. Improved by 6.13424e-07.\n",
      "Iteration 146. Log joint probability =    15.3732. Improved by 8.01857e-08.\n",
      "Iteration 147. Log joint probability =    15.3732. Improved by 6.54845e-07.\n",
      "Iteration 148. Log joint probability =    15.3732. Improved by 3.87612e-08.\n",
      "Iteration 149. Log joint probability =    15.3732. Improved by 6.96265e-07.\n",
      "Iteration 150. Log joint probability =    15.3732. Improved by 3.20376e-07.\n",
      "Iteration 151. Log joint probability =    15.3732. Improved by 4.71356e-08.\n",
      "Iteration 152. Log joint probability =    15.3732. Improved by 2.99664e-07.\n",
      "Iteration 153. Log joint probability =    15.3732. Improved by 6.78461e-08.\n",
      "Iteration 154. Log joint probability =    15.3732. Improved by 2.78953e-07.\n",
      "Iteration 155. Log joint probability =    15.3732. Improved by 8.85566e-08.\n",
      "Iteration 156. Log joint probability =    15.3732. Improved by 2.58242e-07.\n",
      "Iteration 157. Log joint probability =    15.3732. Improved by 1.09267e-07.\n",
      "Iteration 158. Log joint probability =    15.3732. Improved by 2.3753e-07.\n",
      "Iteration 159. Log joint probability =    15.3732. Improved by 1.29977e-07.\n",
      "Iteration 160. Log joint probability =    15.3732. Improved by 2.16819e-07.\n",
      "Iteration 161. Log joint probability =    15.3732. Improved by 1.50687e-07.\n",
      "Iteration 162. Log joint probability =    15.3732. Improved by 1.96108e-07.\n",
      "Iteration 163. Log joint probability =    15.3732. Improved by 1.71397e-07.\n",
      "Iteration 164. Log joint probability =    15.3732. Improved by 1.75397e-07.\n",
      "Iteration 165. Log joint probability =    15.3732. Improved by 1.92107e-07.\n",
      "Iteration 166. Log joint probability =    15.3732. Improved by 1.54686e-07.\n",
      "Iteration 167. Log joint probability =    15.3732. Improved by 2.12817e-07.\n",
      "Iteration 168. Log joint probability =    15.3732. Improved by 1.33976e-07.\n",
      "Iteration 169. Log joint probability =    15.3732. Improved by 2.33527e-07.\n",
      "Iteration 170. Log joint probability =    15.3732. Improved by 1.13265e-07.\n",
      "Iteration 171. Log joint probability =    15.3732. Improved by 2.54236e-07.\n",
      "Iteration 172. Log joint probability =    15.3732. Improved by 9.25545e-08.\n",
      "Iteration 173. Log joint probability =    15.3732. Improved by 2.74946e-07.\n",
      "Iteration 174. Log joint probability =    15.3732. Improved by 7.18441e-08.\n",
      "Iteration 175. Log joint probability =    15.3732. Improved by 2.95655e-07.\n",
      "Iteration 176. Log joint probability =    15.3732. Improved by 5.11337e-08.\n",
      "Iteration 177. Log joint probability =    15.3732. Improved by 3.16365e-07.\n",
      "Iteration 178. Log joint probability =    15.3732. Improved by 3.04235e-08.\n",
      "Iteration 179. Log joint probability =    15.3732. Improved by 3.37074e-07.\n",
      "Iteration 180. Log joint probability =    15.3732. Improved by 9.71339e-09.\n"
     ]
    }
   ],
   "source": [
    "m = Prophet() # Prophet 선언\n",
    "m.fit() # DataFrame"
   ],
   "metadata": {
    "collapsed": false,
    "pycharm": {
     "name": "#%%\n"
    }
   }
  },
  {
   "cell_type": "code",
   "execution_count": 6,
   "outputs": [],
   "source": [
    "future = m.make_future_dataframe(periods=31)"
   ],
   "metadata": {
    "collapsed": false,
    "pycharm": {
     "name": "#%%\n"
    }
   }
  },
  {
   "cell_type": "code",
   "execution_count": 7,
   "outputs": [
    {
     "data": {
      "text/plain": "           ds\n31 2022-10-28\n32 2022-10-29\n33 2022-10-30\n34 2022-10-31\n35 2022-11-01",
      "text/html": "<div>\n<style scoped>\n    .dataframe tbody tr th:only-of-type {\n        vertical-align: middle;\n    }\n\n    .dataframe tbody tr th {\n        vertical-align: top;\n    }\n\n    .dataframe thead th {\n        text-align: right;\n    }\n</style>\n<table border=\"1\" class=\"dataframe\">\n  <thead>\n    <tr style=\"text-align: right;\">\n      <th></th>\n      <th>ds</th>\n    </tr>\n  </thead>\n  <tbody>\n    <tr>\n      <th>31</th>\n      <td>2022-10-28</td>\n    </tr>\n    <tr>\n      <th>32</th>\n      <td>2022-10-29</td>\n    </tr>\n    <tr>\n      <th>33</th>\n      <td>2022-10-30</td>\n    </tr>\n    <tr>\n      <th>34</th>\n      <td>2022-10-31</td>\n    </tr>\n    <tr>\n      <th>35</th>\n      <td>2022-11-01</td>\n    </tr>\n  </tbody>\n</table>\n</div>"
     },
     "execution_count": 7,
     "metadata": {},
     "output_type": "execute_result"
    }
   ],
   "source": [
    "future.tail()"
   ],
   "metadata": {
    "collapsed": false,
    "pycharm": {
     "name": "#%%\n"
    }
   }
  },
  {
   "cell_type": "code",
   "execution_count": 8,
   "outputs": [],
   "source": [
    "forecast = m.predict(future)"
   ],
   "metadata": {
    "collapsed": false,
    "pycharm": {
     "name": "#%%\n"
    }
   }
  },
  {
   "cell_type": "code",
   "execution_count": 9,
   "outputs": [
    {
     "data": {
      "text/plain": "           ds     trend  yhat_lower  yhat_upper  trend_lower  trend_upper  \\\n31 2022-10-28  7.349142    7.013810    7.699285     7.348923     7.349397   \n32 2022-10-29  7.336615    6.989170    7.670946     7.336381     7.336887   \n33 2022-10-30  7.324087    6.989612    7.691093     7.323830     7.324377   \n34 2022-10-31  7.311559    6.982876    7.688200     7.311284     7.311866   \n35 2022-11-01  7.299031    6.962711    7.625083     7.298738     7.299357   \n\n    additive_terms  additive_terms_lower  additive_terms_upper  \\\n31             0.0                   0.0                   0.0   \n32             0.0                   0.0                   0.0   \n33             0.0                   0.0                   0.0   \n34             0.0                   0.0                   0.0   \n35             0.0                   0.0                   0.0   \n\n    multiplicative_terms  multiplicative_terms_lower  \\\n31                   0.0                         0.0   \n32                   0.0                         0.0   \n33                   0.0                         0.0   \n34                   0.0                         0.0   \n35                   0.0                         0.0   \n\n    multiplicative_terms_upper      yhat  \n31                         0.0  7.349142  \n32                         0.0  7.336615  \n33                         0.0  7.324087  \n34                         0.0  7.311559  \n35                         0.0  7.299031  ",
      "text/html": "<div>\n<style scoped>\n    .dataframe tbody tr th:only-of-type {\n        vertical-align: middle;\n    }\n\n    .dataframe tbody tr th {\n        vertical-align: top;\n    }\n\n    .dataframe thead th {\n        text-align: right;\n    }\n</style>\n<table border=\"1\" class=\"dataframe\">\n  <thead>\n    <tr style=\"text-align: right;\">\n      <th></th>\n      <th>ds</th>\n      <th>trend</th>\n      <th>yhat_lower</th>\n      <th>yhat_upper</th>\n      <th>trend_lower</th>\n      <th>trend_upper</th>\n      <th>additive_terms</th>\n      <th>additive_terms_lower</th>\n      <th>additive_terms_upper</th>\n      <th>multiplicative_terms</th>\n      <th>multiplicative_terms_lower</th>\n      <th>multiplicative_terms_upper</th>\n      <th>yhat</th>\n    </tr>\n  </thead>\n  <tbody>\n    <tr>\n      <th>31</th>\n      <td>2022-10-28</td>\n      <td>7.349142</td>\n      <td>7.013810</td>\n      <td>7.699285</td>\n      <td>7.348923</td>\n      <td>7.349397</td>\n      <td>0.0</td>\n      <td>0.0</td>\n      <td>0.0</td>\n      <td>0.0</td>\n      <td>0.0</td>\n      <td>0.0</td>\n      <td>7.349142</td>\n    </tr>\n    <tr>\n      <th>32</th>\n      <td>2022-10-29</td>\n      <td>7.336615</td>\n      <td>6.989170</td>\n      <td>7.670946</td>\n      <td>7.336381</td>\n      <td>7.336887</td>\n      <td>0.0</td>\n      <td>0.0</td>\n      <td>0.0</td>\n      <td>0.0</td>\n      <td>0.0</td>\n      <td>0.0</td>\n      <td>7.336615</td>\n    </tr>\n    <tr>\n      <th>33</th>\n      <td>2022-10-30</td>\n      <td>7.324087</td>\n      <td>6.989612</td>\n      <td>7.691093</td>\n      <td>7.323830</td>\n      <td>7.324377</td>\n      <td>0.0</td>\n      <td>0.0</td>\n      <td>0.0</td>\n      <td>0.0</td>\n      <td>0.0</td>\n      <td>0.0</td>\n      <td>7.324087</td>\n    </tr>\n    <tr>\n      <th>34</th>\n      <td>2022-10-31</td>\n      <td>7.311559</td>\n      <td>6.982876</td>\n      <td>7.688200</td>\n      <td>7.311284</td>\n      <td>7.311866</td>\n      <td>0.0</td>\n      <td>0.0</td>\n      <td>0.0</td>\n      <td>0.0</td>\n      <td>0.0</td>\n      <td>0.0</td>\n      <td>7.311559</td>\n    </tr>\n    <tr>\n      <th>35</th>\n      <td>2022-11-01</td>\n      <td>7.299031</td>\n      <td>6.962711</td>\n      <td>7.625083</td>\n      <td>7.298738</td>\n      <td>7.299357</td>\n      <td>0.0</td>\n      <td>0.0</td>\n      <td>0.0</td>\n      <td>0.0</td>\n      <td>0.0</td>\n      <td>0.0</td>\n      <td>7.299031</td>\n    </tr>\n  </tbody>\n</table>\n</div>"
     },
     "execution_count": 9,
     "metadata": {},
     "output_type": "execute_result"
    }
   ],
   "source": [
    "forecast.tail() # 분석 결과"
   ],
   "metadata": {
    "collapsed": false,
    "pycharm": {
     "name": "#%%\n"
    }
   }
  },
  {
   "cell_type": "code",
   "execution_count": 10,
   "outputs": [
    {
     "data": {
      "text/plain": "           ds      yhat  yhat_lower  yhat_upper\n31 2022-10-28  7.349142    7.013810    7.699285\n32 2022-10-29  7.336615    6.989170    7.670946\n33 2022-10-30  7.324087    6.989612    7.691093\n34 2022-10-31  7.311559    6.982876    7.688200\n35 2022-11-01  7.299031    6.962711    7.625083",
      "text/html": "<div>\n<style scoped>\n    .dataframe tbody tr th:only-of-type {\n        vertical-align: middle;\n    }\n\n    .dataframe tbody tr th {\n        vertical-align: top;\n    }\n\n    .dataframe thead th {\n        text-align: right;\n    }\n</style>\n<table border=\"1\" class=\"dataframe\">\n  <thead>\n    <tr style=\"text-align: right;\">\n      <th></th>\n      <th>ds</th>\n      <th>yhat</th>\n      <th>yhat_lower</th>\n      <th>yhat_upper</th>\n    </tr>\n  </thead>\n  <tbody>\n    <tr>\n      <th>31</th>\n      <td>2022-10-28</td>\n      <td>7.349142</td>\n      <td>7.013810</td>\n      <td>7.699285</td>\n    </tr>\n    <tr>\n      <th>32</th>\n      <td>2022-10-29</td>\n      <td>7.336615</td>\n      <td>6.989170</td>\n      <td>7.670946</td>\n    </tr>\n    <tr>\n      <th>33</th>\n      <td>2022-10-30</td>\n      <td>7.324087</td>\n      <td>6.989612</td>\n      <td>7.691093</td>\n    </tr>\n    <tr>\n      <th>34</th>\n      <td>2022-10-31</td>\n      <td>7.311559</td>\n      <td>6.982876</td>\n      <td>7.688200</td>\n    </tr>\n    <tr>\n      <th>35</th>\n      <td>2022-11-01</td>\n      <td>7.299031</td>\n      <td>6.962711</td>\n      <td>7.625083</td>\n    </tr>\n  </tbody>\n</table>\n</div>"
     },
     "execution_count": 10,
     "metadata": {},
     "output_type": "execute_result"
    }
   ],
   "source": [
    "forecast[['ds', 'yhat', 'yhat_lower', 'yhat_upper']].tail()"
   ],
   "metadata": {
    "collapsed": false,
    "pycharm": {
     "name": "#%%\n"
    }
   }
  },
  {
   "cell_type": "code",
   "execution_count": 11,
   "outputs": [
    {
     "data": {
      "text/plain": "<Figure size 720x432 with 1 Axes>",
      "image/png": "[encoded data removed]"
     },
     "metadata": {},
     "output_type": "display_data"
    }
   ],
   "source": [
    "fig1 = m.plot(forecast)"
   ],
   "metadata": {
    "collapsed": false,
    "pycharm": {
     "name": "#%%\n"
    }
   }
  },
  {
   "cell_type": "code",
   "execution_count": 12,
   "outputs": [
    {
     "data": {
      "text/plain": "<Figure size 648x216 with 1 Axes>",
      "image/png": "[encoded data removed]"
     },
     "metadata": {},
     "output_type": "display_data"
    }
   ],
   "source": [
    "fig2 = m.plot_components(forecast)"
   ],
   "metadata": {
    "collapsed": false,
    "pycharm": {
     "name": "#%%\n"
    }
   }
  },
  {
   "cell_type": "code",
   "execution_count": 114,
   "outputs": [],
   "source": [
    "test_list = [{\"date\" : \"2022-06-01\", \"value\" : 200000}, {\"date\" : \"2022-07-01\", \"value\" : 150000}, {\"date\" : \"2022-08-01\", \"value\" : 231000}]"
   ],
   "metadata": {
    "collapsed": false,
    "pycharm": {
     "name": "#%%\n"
    }
   }
  },
  {
   "cell_type": "code",
   "execution_count": 110,
   "outputs": [],
   "source": [
    "# def\n",
    "\n",
    "def seller_prophet(value_list): # value_list = [{date : 2022-02-01, value : (월 매출액)}, {date : 2022-03-01, value : (월 매출액)}]\n",
    "    ds = []\n",
    "    y = []\n",
    "    m = Prophet()\n",
    "    for value in value_list:\n",
    "        ds.append(pd.to_datetime(value.get(\"date\")))\n",
    "        y.append(value.get(\"value\"))\n",
    "\n",
    "    s_ds = pd.Series(ds, name=\"ds\")\n",
    "    s_y = pd.Series(y, name=\"y\")\n",
    "    m.fit(pd.DataFrame(s_ds).join(s_y))\n",
    "\n",
    "    future = m.make_future_dataframe(periods=31)\n",
    "    forecast = m.predict(future)\n",
    "\n",
    "    return int(forecast.tail(1)[\"yhat\"].values)"
   ],
   "metadata": {
    "collapsed": false,
    "pycharm": {
     "name": "#%%\n"
    }
   }
  },
  {
   "cell_type": "code",
   "execution_count": 115,
   "outputs": [
    {
     "name": "stderr",
     "output_type": "stream",
     "text": [
      "INFO:prophet:Disabling yearly seasonality. Run prophet with yearly_seasonality=True to override this.\n",
      "INFO:prophet:Disabling weekly seasonality. Run prophet with weekly_seasonality=True to override this.\n",
      "INFO:prophet:Disabling daily seasonality. Run prophet with daily_seasonality=True to override this.\n",
      "INFO:prophet:n_changepoints greater than number of observations. Using 1.\n"
     ]
    },
    {
     "name": "stdout",
     "output_type": "stream",
     "text": [
      "\n",
      "Initial log joint probability = -8.71095\n",
      "Iteration  1. Log joint probability =    1.75157. Improved by 10.4625.\n",
      "Iteration  2. Log joint probability =    3.57571. Improved by 1.82413.\n",
      "Iteration  3. Log joint probability =    4.43792. Improved by 0.862214.\n",
      "Iteration  4. Log joint probability =    4.48626. Improved by 0.0483377.\n",
      "Iteration  5. Log joint probability =    4.49648. Improved by 0.0102196.\n",
      "Iteration  6. Log joint probability =    4.50061. Improved by 0.00413011.\n",
      "Iteration  7. Log joint probability =    4.50158. Improved by 0.000976205.\n",
      "Iteration  8. Log joint probability =    4.50167. Improved by 9.15476e-05.\n",
      "Iteration  9. Log joint probability =    4.50171. Improved by 3.6607e-05.\n",
      "Iteration 10. Log joint probability =    4.50173. Improved by 1.44565e-05.\n",
      "Iteration 11. Log joint probability =    4.50173. Improved by 1.56266e-06.\n",
      "Iteration 12. Log joint probability =    4.50173. Improved by 9.02724e-07.\n",
      "Iteration 13. Log joint probability =    4.50173. Improved by 1.1433e-06.\n",
      "Iteration 14. Log joint probability =    4.50173. Improved by 8.93939e-08.\n",
      "Iteration 15. Log joint probability =    4.50173. Improved by 9.33616e-07.\n",
      "Iteration 16. Log joint probability =    4.50173. Improved by 6.62115e-07.\n",
      "Iteration 17. Log joint probability =    4.50173. Improved by 2.21184e-08.\n",
      "Iteration 18. Log joint probability =    4.50173. Improved by 2.32952e-08.\n",
      "Iteration 19. Log joint probability =    4.50173. Improved by 6.27305e-10.\n"
     ]
    }
   ],
   "source": [
    "value = seller_prophet(test_list)"
   ],
   "metadata": {
    "collapsed": false,
    "pycharm": {
     "name": "#%%\n"
    }
   }
  },
  {
   "cell_type": "code",
   "execution_count": 117,
   "outputs": [
    {
     "data": {
      "text/plain": "225755"
     },
     "execution_count": 117,
     "metadata": {},
     "output_type": "execute_result"
    }
   ],
   "source": [
    "value"
   ],
   "metadata": {
    "collapsed": false,
    "pycharm": {
     "name": "#%%\n"
    }
   }
  }
 ],
 "metadata": {
  "kernelspec": {
   "display_name": "Python 3",
   "language": "python",
   "name": "python3"
  },
  "language_info": {
   "codemirror_mode": {
    "name": "ipython",
    "version": 2
   },
   "file_extension": ".py",
   "mimetype": "text/x-python",
   "name": "python",
   "nbconvert_exporter": "python",
   "pygments_lexer": "ipython2",
   "version": "2.7.6"
  }
 },
 "nbformat": 4,
 "nbformat_minor": 0
}